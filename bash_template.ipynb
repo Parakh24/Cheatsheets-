{
  "nbformat": 4,
  "nbformat_minor": 0,
  "metadata": {
    "colab": {
      "provenance": [],
      "include_colab_link": true
    },
    "kernelspec": {
      "name": "python3",
      "display_name": "Python 3"
    },
    "language_info": {
      "name": "python"
    }
  },
  "cells": [
    {
      "cell_type": "markdown",
      "metadata": {
        "id": "view-in-github",
        "colab_type": "text"
      },
      "source": [
        "<a href=\"https://colab.research.google.com/github/Parakh24/Cheatsheets-/blob/main/bash_template.ipynb\" target=\"_parent\"><img src=\"https://colab.research.google.com/assets/colab-badge.svg\" alt=\"Open In Colab\"/></a>"
      ]
    },
    {
      "cell_type": "markdown",
      "source": [
        "Program: Bash/shell"
      ],
      "metadata": {
        "id": "tiIJsO8vbK58"
      }
    },
    {
      "cell_type": "markdown",
      "source": [
        "## Programming: Basics"
      ],
      "metadata": {
        "id": "60eUslhAbOF4"
      }
    },
    {
      "cell_type": "code",
      "source": [
        "%lsmagic"
      ],
      "metadata": {
        "id": "VSn-VNPa-Kn_",
        "outputId": "c1f8f2ce-7786-4eb5-dd21-2f5737623162",
        "colab": {
          "base_uri": "https://localhost:8080/",
          "height": 303
        }
      },
      "execution_count": null,
      "outputs": [
        {
          "output_type": "execute_result",
          "data": {
            "text/plain": [
              "Available line magics:\n",
              "%alias  %alias_magic  %autoawait  %autocall  %automagic  %autosave  %bookmark  %cat  %cd  %clear  %colors  %conda  %config  %connect_info  %cp  %debug  %dhist  %dirs  %doctest_mode  %ed  %edit  %env  %gui  %hist  %history  %killbgscripts  %ldir  %less  %lf  %lk  %ll  %load  %load_ext  %loadpy  %logoff  %logon  %logstart  %logstate  %logstop  %ls  %lsmagic  %lx  %macro  %magic  %man  %matplotlib  %mkdir  %more  %mv  %notebook  %page  %pastebin  %pdb  %pdef  %pdoc  %pfile  %pinfo  %pinfo2  %pip  %popd  %pprint  %precision  %prun  %psearch  %psource  %pushd  %pwd  %pycat  %pylab  %qtconsole  %quickref  %recall  %rehashx  %reload_ext  %rep  %rerun  %reset  %reset_selective  %rm  %rmdir  %run  %save  %sc  %set_env  %shell  %store  %sx  %system  %tb  %tensorflow_version  %time  %timeit  %unalias  %unload_ext  %who  %who_ls  %whos  %xdel  %xmode\n",
              "\n",
              "Available cell magics:\n",
              "%%!  %%HTML  %%SVG  %%bash  %%bigquery  %%capture  %%debug  %%file  %%html  %%javascript  %%js  %%latex  %%markdown  %%perl  %%prun  %%pypy  %%python  %%python2  %%python3  %%ruby  %%script  %%sh  %%shell  %%svg  %%sx  %%system  %%time  %%timeit  %%writefile\n",
              "\n",
              "Automagic is ON, % prefix IS NOT needed for line magics."
            ],
            "application/json": {
              "line": {
                "automagic": "AutoMagics",
                "autocall": "AutoMagics",
                "alias_magic": "BasicMagics",
                "lsmagic": "BasicMagics",
                "magic": "BasicMagics",
                "page": "BasicMagics",
                "pprint": "BasicMagics",
                "colors": "BasicMagics",
                "xmode": "BasicMagics",
                "quickref": "BasicMagics",
                "doctest_mode": "BasicMagics",
                "gui": "BasicMagics",
                "precision": "BasicMagics",
                "notebook": "BasicMagics",
                "save": "CodeMagics",
                "pastebin": "CodeMagics",
                "loadpy": "CodeMagics",
                "load": "CodeMagics",
                "edit": "KernelMagics",
                "config": "ConfigMagics",
                "prun": "ExecutionMagics",
                "pdb": "ExecutionMagics",
                "debug": "ExecutionMagics",
                "tb": "ExecutionMagics",
                "run": "ExecutionMagics",
                "timeit": "ExecutionMagics",
                "time": "ExecutionMagics",
                "macro": "ExecutionMagics",
                "load_ext": "ExtensionMagics",
                "unload_ext": "ExtensionMagics",
                "reload_ext": "ExtensionMagics",
                "history": "HistoryMagics",
                "recall": "HistoryMagics",
                "rerun": "HistoryMagics",
                "logstart": "LoggingMagics",
                "logstop": "LoggingMagics",
                "logoff": "LoggingMagics",
                "logon": "LoggingMagics",
                "logstate": "LoggingMagics",
                "pinfo": "NamespaceMagics",
                "pinfo2": "NamespaceMagics",
                "pdef": "NamespaceMagics",
                "pdoc": "NamespaceMagics",
                "psource": "NamespaceMagics",
                "pfile": "NamespaceMagics",
                "psearch": "NamespaceMagics",
                "who_ls": "NamespaceMagics",
                "who": "NamespaceMagics",
                "whos": "NamespaceMagics",
                "reset": "NamespaceMagics",
                "reset_selective": "NamespaceMagics",
                "xdel": "NamespaceMagics",
                "alias": "OSMagics",
                "unalias": "OSMagics",
                "rehashx": "OSMagics",
                "pwd": "OSMagics",
                "cd": "OSMagics",
                "env": "OSMagics",
                "set_env": "OSMagics",
                "pushd": "OSMagics",
                "popd": "OSMagics",
                "dirs": "OSMagics",
                "dhist": "OSMagics",
                "sc": "OSMagics",
                "sx": "OSMagics",
                "system": "OSMagics",
                "bookmark": "OSMagics",
                "pycat": "OSMagics",
                "pip": "Other",
                "conda": "PackagingMagics",
                "matplotlib": "PylabMagics",
                "pylab": "PylabMagics",
                "killbgscripts": "ScriptMagics",
                "autoawait": "AsyncMagics",
                "ed": "Other",
                "hist": "Other",
                "rep": "Other",
                "clear": "KernelMagics",
                "less": "KernelMagics",
                "more": "KernelMagics",
                "man": "KernelMagics",
                "connect_info": "KernelMagics",
                "qtconsole": "KernelMagics",
                "autosave": "KernelMagics",
                "mkdir": "Other",
                "rmdir": "Other",
                "mv": "Other",
                "rm": "Other",
                "cp": "Other",
                "cat": "Other",
                "ls": "Other",
                "ll": "Other",
                "lf": "Other",
                "lk": "Other",
                "ldir": "Other",
                "lx": "Other",
                "store": "StoreMagics",
                "shell": "Other",
                "tensorflow_version": "Other"
              },
              "cell": {
                "js": "DisplayMagics",
                "javascript": "DisplayMagics",
                "latex": "DisplayMagics",
                "svg": "DisplayMagics",
                "html": "DisplayMagics",
                "markdown": "DisplayMagics",
                "prun": "ExecutionMagics",
                "debug": "ExecutionMagics",
                "timeit": "ExecutionMagics",
                "time": "ExecutionMagics",
                "capture": "ExecutionMagics",
                "sx": "OSMagics",
                "system": "OSMagics",
                "!": "OSMagics",
                "writefile": "OSMagics",
                "script": "ScriptMagics",
                "sh": "Other",
                "bash": "Other",
                "perl": "Other",
                "ruby": "Other",
                "python": "Other",
                "python2": "Other",
                "python3": "Other",
                "pypy": "Other",
                "SVG": "Other",
                "HTML": "Other",
                "file": "Other",
                "bigquery": "Other",
                "shell": "Other"
              }
            }
          },
          "metadata": {},
          "execution_count": 5
        }
      ]
    },
    {
      "cell_type": "markdown",
      "source": [
        "### Introduction\n",
        "\n",
        "- Syntax\n",
        "- execution\n",
        "    - shell\n",
        "    - colab\n",
        "    - script\n",
        "- Comments"
      ],
      "metadata": {
        "id": "utCNv4lWbyyK"
      }
    },
    {
      "cell_type": "markdown",
      "source": [
        "#### Shell\n",
        "\n",
        "```bash\n",
        "$ echo \"Hello\"\n",
        "```"
      ],
      "metadata": {
        "id": "MGQBRTYe9pDM"
      }
    },
    {
      "cell_type": "markdown",
      "source": [
        "#### Execution: Colab"
      ],
      "metadata": {
        "id": "4DPXP7d89riy"
      }
    },
    {
      "cell_type": "code",
      "execution_count": null,
      "metadata": {
        "id": "9jf6uEMUbIGA",
        "outputId": "2d0d367a-36b4-49fb-ab93-34d8e44a3925",
        "colab": {
          "base_uri": "https://localhost:8080/"
        }
      },
      "outputs": [
        {
          "output_type": "stream",
          "name": "stdout",
          "text": [
            "Hello, ROHIT!\n"
          ]
        },
        {
          "output_type": "execute_result",
          "data": {
            "text/plain": []
          },
          "metadata": {},
          "execution_count": 2
        }
      ],
      "source": [
        "%%shell\n",
        "\n",
        "\n",
        "name=\"ROHIT\" #Hello\n",
        "\n",
        "echo \"Hello, ${name}!\"\n"
      ]
    },
    {
      "cell_type": "code",
      "source": [
        "!echo \"Hello\""
      ],
      "metadata": {
        "id": "8RNGcpH8-DEs",
        "outputId": "2ca0407f-0f22-4490-8a08-31720157e25c",
        "colab": {
          "base_uri": "https://localhost:8080/"
        }
      },
      "execution_count": null,
      "outputs": [
        {
          "output_type": "stream",
          "name": "stdout",
          "text": [
            "Hello\n"
          ]
        }
      ]
    },
    {
      "cell_type": "markdown",
      "source": [
        "#### Examples"
      ],
      "metadata": {
        "id": "karAKDc5nryH"
      }
    },
    {
      "cell_type": "code",
      "source": [
        "%%shell\n",
        "\n",
        "name=\"Parakh\" #hello\n",
        "echo \"My name is $name\""
      ],
      "metadata": {
        "id": "hSgE4QxgnthC",
        "outputId": "f1c6bc07-056e-46a1-cf15-5c641fd213ff",
        "colab": {
          "base_uri": "https://localhost:8080/"
        }
      },
      "execution_count": null,
      "outputs": [
        {
          "output_type": "stream",
          "name": "stdout",
          "text": [
            "My name is Parakh\n"
          ]
        },
        {
          "output_type": "execute_result",
          "data": {
            "text/plain": []
          },
          "metadata": {},
          "execution_count": 1
        }
      ]
    },
    {
      "cell_type": "markdown",
      "source": [
        "### Data types and Variables\n",
        "\n",
        "**Data Types**\n",
        "\n",
        "- str\n",
        "- int\n",
        "- float\n",
        "- array\n",
        "- dictionary\n",
        "- others\n",
        "\n",
        "**Variables**\n",
        "\n",
        "How to define and use varaibles for different data types"
      ],
      "metadata": {
        "id": "7NadGc3ob2wn"
      }
    },
    {
      "cell_type": "markdown",
      "source": [
        "#### Examples"
      ],
      "metadata": {
        "id": "dgbed9RQn1L_"
      }
    },
    {
      "cell_type": "code",
      "source": [
        "%%shell\n",
        "#str\n",
        "name=\"Parakh\"\n",
        "\n",
        "#int\n",
        "x=10\n",
        "\n",
        "#float\n",
        "y=3.14\n",
        "\n",
        "#array\n",
        "Fruit=('Apple' 'Banana' 'Orange')\n",
        "\n",
        "#dictionary\n",
        "declare -A sounds\n",
        "\n",
        "sounds[dog]=\"bark\"\n",
        "sounds[cat]=\"meow\"\n",
        "\n",
        "#others, boolean\n",
        "is_valid=true\n",
        "if [[ ${is_valid} == true ]]; then\n",
        " echo \"Validity\"\n",
        "\n",
        "fi"
      ],
      "metadata": {
        "id": "G0ZfsYq0oOC9"
      },
      "execution_count": null,
      "outputs": []
    },
    {
      "cell_type": "markdown",
      "source": [
        "### Interacting with User"
      ],
      "metadata": {
        "id": "v631xgMNoUqw"
      }
    },
    {
      "cell_type": "markdown",
      "source": [
        "#### Arguments\n",
        "\n",
        "Pass information as arguments to the script.\n",
        "\n",
        "Examples:\n",
        "\n",
        "Followiing examples, `2, 3, 5, and 6 are arguments`\n",
        "\n",
        "    - `sum_of_numbers.c 2 5 4 6`\n",
        "    - `sum_of_numbers.py 2 5 4 6`\n"
      ],
      "metadata": {
        "id": "9rxnDgcRcNd6"
      }
    },
    {
      "cell_type": "code",
      "source": [
        "%%writefile file.sh\n",
        "#!/usr/bin/env bash\n",
        "\n",
        "int=\"$1\"\n",
        "\n",
        "echo \"The integer is $int\"\n"
      ],
      "metadata": {
        "id": "vBVfOYrJcPpA",
        "colab": {
          "base_uri": "https://localhost:8080/"
        },
        "outputId": "bdab216d-bdf2-4e2d-a646-4bc4840c45c2"
      },
      "execution_count": null,
      "outputs": [
        {
          "output_type": "stream",
          "name": "stdout",
          "text": [
            "Writing file.sh\n"
          ]
        }
      ]
    },
    {
      "cell_type": "code",
      "source": [
        "!chmod +x file.sh"
      ],
      "metadata": {
        "id": "aC8NUY5llzSA"
      },
      "execution_count": null,
      "outputs": []
    },
    {
      "cell_type": "code",
      "source": [
        "!bash ./file.sh 15"
      ],
      "metadata": {
        "colab": {
          "base_uri": "https://localhost:8080/"
        },
        "id": "cPIS3a2Kl-mF",
        "outputId": "6d827cf1-9e06-42b9-cc82-d3f00ae64f58"
      },
      "execution_count": null,
      "outputs": [
        {
          "output_type": "stream",
          "name": "stdout",
          "text": [
            "The number of integers is 15\n"
          ]
        }
      ]
    },
    {
      "cell_type": "markdown",
      "source": [
        "#### Interactive\n",
        "\n",
        "Prompting- program asks question and user gives answer or data. If user types 'Q' or quit, program stops taking data and presents the result to user.\n",
        "\n",
        "For ex:\n",
        "\n",
        "    - `scanf()` in `c`\n",
        "    - `input()` in `python`"
      ],
      "metadata": {
        "id": "gdz8AR_VoYGV"
      }
    },
    {
      "cell_type": "markdown",
      "source": [
        "### Conditions\n",
        "\n",
        "Examples\n",
        "\n",
        "- `if`\n",
        "- `if else`\n",
        "- `if else if else`\n",
        "- `tertiary` operator\n",
        "- etc\n"
      ],
      "metadata": {
        "id": "gAJUXgFEb5vD"
      }
    },
    {
      "cell_type": "code",
      "source": [
        "%%writefile myfile.sh\n",
        "#!/usr/bin/env bash\n",
        "\n",
        "if [[ -z \"$string\" ]]; then\n",
        "\n",
        "  echo \"String is empty\"\n",
        "elif [[ -n \"$string\" ]]; then\n",
        "\n",
        "  echo \"String is not empty\"\n",
        "else\n",
        "  echo \"This never happens\"\n",
        "fi"
      ],
      "metadata": {
        "id": "_s8Sv-gsb_Zj"
      },
      "execution_count": null,
      "outputs": []
    },
    {
      "cell_type": "code",
      "source": [
        "#tertiary operator\n",
        "%%writefile myfile.sh\n",
        "#!/usr/bin/env bash\n",
        "\n",
        "$ a=1; b=2\n",
        "$ z=$((a > b ? a : b))\n",
        "$ echo \"$z\""
      ],
      "metadata": {
        "colab": {
          "base_uri": "https://localhost:8080/"
        },
        "id": "EH8YjjT524au",
        "outputId": "becd7a5b-aae2-4eb6-bf93-148be1e28b77"
      },
      "execution_count": null,
      "outputs": [
        {
          "output_type": "stream",
          "name": "stdout",
          "text": [
            "Writing myfile.sh\n"
          ]
        }
      ]
    },
    {
      "cell_type": "markdown",
      "source": [
        "### Loops\n",
        "\n",
        "Examples\n",
        "\n",
        "- `for`\n",
        "- `while`\n",
        "- `do while`\n",
        "- `switch case`\n",
        "- etc\n",
        "\n"
      ],
      "metadata": {
        "id": "KTGXBIhTb7Zr"
      }
    },
    {
      "cell_type": "code",
      "source": [
        "%%shell\n",
        "#for loop\n",
        "for ((i = 0 ; i < 100 ; i++)); do\n",
        "  echo \"$i\"\n",
        "done\n",
        "\n",
        "#while\n",
        "while read -r line; do\n",
        "  echo \"$line\"\n",
        "done <file.txt\n",
        "\n",
        "#switch case\n",
        "\n",
        "echo \" Enter a number between 1 and 3: \"\n",
        "read number\n",
        "\n",
        "case $number in\n",
        "\n",
        "  1)\n",
        "     echo \"you entered one\"\n",
        "   ;;\n",
        "  2)\n",
        "     echo \"you entered two\"\n",
        "   ;;\n",
        "  3)\n",
        "     echo \"you entered three\"\n",
        "   ;;\n",
        "  *) echo \"invalid input\"\n",
        "   ;;\n",
        "\n",
        "   esac\n",
        "\n"
      ],
      "metadata": {
        "id": "LmgRYcklcCZA"
      },
      "execution_count": null,
      "outputs": []
    },
    {
      "cell_type": "markdown",
      "source": [
        "### Functions\n",
        "\n",
        "- Function definition\n",
        "- Function with no arguments\n",
        "- Function with no retrun\n",
        "- Function with return\n",
        "- Function with arguments\n",
        "- Function with default arguments\n",
        "- etc\n"
      ],
      "metadata": {
        "id": "21STM_6Ub9HZ"
      }
    },
    {
      "cell_type": "markdown",
      "source": [
        "**A function is a block of reusable code that you can call multiple times within a script.**"
      ],
      "metadata": {
        "id": "wQV_qqCXBtEk"
      }
    },
    {
      "cell_type": "code",
      "source": [
        "%%shell\n",
        "#Function with no return/argument\n",
        "\n",
        "my_func() {\n",
        "    echo \"Hello world\"\n",
        "}\n",
        "\n",
        "#Function with return/argument\n",
        "my_func() {\n",
        "     local myresult='some value'\n",
        "     echo \"$myresult\"\n",
        "}\n",
        "\n",
        "result = $(my_func)\n",
        "\n",
        "#Function with number of arguments\n",
        "my_func() {\n",
        "     echo \"Number of arguments $#\"\n",
        "}\n",
        "\n",
        "my_func arg1 arg2 arg3\n",
        "\n",
        "\n",
        "# $_ holds the value of the last argument of the previous command\n",
        "mkdir new_directory\n",
        "cd $_\n",
        "\n",
        "\n",
        "# $* concatenates all the arguments\n",
        "# $@ separates all the passed arguments\n"
      ],
      "metadata": {
        "id": "EY_AFbzhb_vk"
      },
      "execution_count": null,
      "outputs": []
    },
    {
      "cell_type": "markdown",
      "source": [
        "### Handling files\n",
        "\n",
        "- Reading files\n",
        "- writing files\n",
        "\n"
      ],
      "metadata": {
        "id": "TfE7hdBwuLDt"
      }
    },
    {
      "cell_type": "code",
      "source": [
        "%%shell\n",
        "# Reading files\n",
        "cat file.txt\n",
        "\n",
        "#while loop\n",
        "while IFS= read -r line   # builtin IFS with no string\n",
        "do\n",
        "    echo \"$line\"\n",
        "done < file.txt\n",
        "\n",
        "#sed\n",
        "sed '' file.txt\n",
        "\n",
        "\n",
        "#writing in a file\n",
        "cat > file.txt\n",
        "echo \"This is a file\" > file.txt\n",
        "echo \"This is a file\" >> file.txt #it appends at the last\n",
        "echo \"This is some text\" | tee filename.txt\n",
        "echo \"This is additional text\" | tee -a filename.txt #it appends at the last"
      ],
      "metadata": {
        "id": "KykhRuCpuP5E"
      },
      "execution_count": null,
      "outputs": []
    },
    {
      "cell_type": "markdown",
      "source": [
        "## Standard libraries\n",
        "\n",
        "- list of standard libraries\n",
        "- How to use them?\n",
        "-"
      ],
      "metadata": {
        "id": "3YxXvUmyuWWE"
      }
    },
    {
      "cell_type": "markdown",
      "source": [
        "Bash does not have standard libraries that programming languages like python, c has.It uses some of the unix based system commands or utilities for executoin of the program.\n",
        "\n",
        "1) echo\n",
        "\n",
        "2) cp\n",
        "\n",
        "3) mv\n",
        "\n",
        "4) pwd\n",
        "\n",
        "5) grep\n",
        "\n",
        "etc...\n"
      ],
      "metadata": {
        "id": "-B7ZqppCBAhP"
      }
    },
    {
      "cell_type": "markdown",
      "source": [
        "## Advanced"
      ],
      "metadata": {
        "id": "SINjyO6ZcqIq"
      }
    },
    {
      "cell_type": "markdown",
      "source": [
        "### Arrays"
      ],
      "metadata": {
        "id": "DHYHF50LGSRP"
      }
    },
    {
      "cell_type": "code",
      "source": [
        "%%shell\n",
        "\n",
        "Fruits = ('Apple' 'Banana' 'Orange')\n",
        "\n",
        "Fruits[0]=\"Apple\"\n",
        "Fruits[1]=\"Banana\"\n",
        "Fruits[2]=\"Orange\"\n",
        "\n",
        "Fruits+=('Watermelon') #push\n",
        "Fruits=(\"${Fruits[@]}\" \"${Veggies[@]}\") #concatenate\n",
        " \"${!Fruits[@]}\" #keys of all elements\n",
        " \"${#Fruits[@]}\" #Number of elements\n",
        "\n",
        "\n",
        "#Iteration\n",
        "\n",
        "for i in \"${Fruits[@]}\"; do\n",
        "  echo \"$i\"\n",
        "done"
      ],
      "metadata": {
        "id": "C1rw_fnCbTEN"
      },
      "execution_count": null,
      "outputs": []
    },
    {
      "cell_type": "markdown",
      "source": [
        "### Alias/Unalias\n",
        "\n",
        "**It is used to assign a random name to the complex commands for the ease of the user**"
      ],
      "metadata": {
        "id": "S3ZSyZtHGVFO"
      }
    },
    {
      "cell_type": "code",
      "source": [
        "%%shell\n",
        "#alias\n",
        "alias abcd='ls -al'\n",
        "alias update='sudo apt update && sudo apt upgrade'\n",
        "\n",
        "#permanent alias\n",
        "echo \"alias ll='ls -l'\" >> ~/.bashrc\n",
        "source ~/.bashrc #this is a script whenever a terminal is run, bash script is enabled\n",
        "\n",
        "\n",
        "#unalias\n",
        "unalias -a #remove all aliases in the shell\n",
        "\n",
        "\n"
      ],
      "metadata": {
        "id": "ALYTVxR9GUz_"
      },
      "execution_count": null,
      "outputs": []
    },
    {
      "cell_type": "markdown",
      "source": [
        "### Grep/Sed/awk with RegEx"
      ],
      "metadata": {
        "id": "HaMfAJ9YGfaB"
      }
    },
    {
      "cell_type": "code",
      "source": [
        "%%shell\n",
        "#grep\n",
        "grep enter_string file.txt\n",
        "\n",
        "#sed\n",
        "sed '' file.txt\n",
        "\n",
        "#awk\n",
        "awk '{ print $1, $3 }' data.txt    #prints first and third field(column) of each line\n",
        "awk -F',' '{print $1, $3}' file.txt"
      ],
      "metadata": {
        "id": "PBWmCBY9GfCV"
      },
      "execution_count": null,
      "outputs": []
    },
    {
      "cell_type": "markdown",
      "source": [
        "## Best Practices"
      ],
      "metadata": {
        "id": "t0e22kzJcW1I"
      }
    },
    {
      "cell_type": "markdown",
      "source": [
        "### Shebang and File Extension\n",
        "\n",
        "1. **Purpose of Shebang**\n",
        "   - The shebang (`#!`) at the beginning of a script specifies which program should execute the script. Not having a shebang can cause issues during execution.\n",
        "   ```bash\n",
        "   #!/bin/bash\n",
        "   echo \"Hello, World!\"\n",
        "   ```\n",
        "\n",
        "2. **Importance of Shebang**\n",
        "   - Without a shebang, you might need to manually specify the shell to execute the script, which can be problematic if the script uses specific syntax from shells like bash or zsh.\n",
        "   ```bash\n",
        "   #!/bin/bash\n",
        "   for i in {1..5}; do\n",
        "       echo \"Number $i\"\n",
        "   done\n",
        "   ```\n",
        "\n",
        "3. **Using `env` for Portability**\n",
        "   - Instead of hardcoding the absolute path of the shell binary, use `env` to find the shell. This ensures compatibility across different operating systems where the shell might be located in different paths.\n",
        "   ```bash\n",
        "   #!/usr/bin/env bash\n",
        "   echo \"This script is portable!\"\n",
        "   ```\n",
        "\n",
        "4. **Shell Selection**\n",
        "   - Avoid using the shell with the most features by default. While most systems have `sh` and `bash`, they might not have `zsh` or other shells. Start with `sh` and switch to `bash` if you need more advanced or non-POSIX syntax.\n",
        "   ```sh\n",
        "   #!/usr/bin/env sh\n",
        "   echo \"Using sh for compatibility\"\n",
        "   ```\n",
        "\n",
        "5. **Avoid Passing Arguments in Shebang**\n",
        "   - Do not pass arguments to your shell in the shebang. It will result in undesired behavior as everything following the first whitespace will be considered as the first argument.\n",
        "   ```bash\n",
        "   #!/usr/bin/env bash -e  # Incorrect\n",
        "   #!/usr/bin/env bash\n",
        "   set -e  # Correct way to set options\n",
        "   ```\n",
        "\n",
        "6. **File Extension Usage**\n",
        "   - The file extension does not determine the interpreter; the shebang does. However, using extensions like `.sh`, `.bash`, or `.zsh` can help distinguish scripts and make them easier to find.\n",
        "   ```bash\n",
        "   #!/usr/bin/env bash\n",
        "   echo \"File extension is just a clue!\"\n",
        "   ```\n",
        "\n",
        "7. **Starting with `sh`**\n",
        "   - Begin with `sh` for maximum compatibility and switch to `bash` if you need more advanced features.\n",
        "   ```sh\n",
        "   #!/usr/bin/env sh\n",
        "   echo \"Starting with sh\"\n",
        "   ```\n",
        "\n",
        "8. **Switching to `bash`**\n",
        "   - Use `bash` if `sh` is not sufficient for your script's needs.\n",
        "   ```bash\n",
        "   #!/usr/bin/env bash\n",
        "   echo \"Switching to bash for advanced features\"\n",
        "   ```\n",
        "\n",
        "9. **Using `zsh`**\n",
        "   - Only use `zsh` if you need features that `bash` does not provide, but be aware that not all systems have `zsh` installed.\n",
        "   ```zsh\n",
        "   #!/usr/bin/env zsh\n",
        "   echo \"Using zsh for specific features\"\n",
        "   ```\n",
        "\n",
        "10. **Finding Scripts by Extension**\n",
        "    - Adding an extension like `.sh` allows for easy identification and searching of scripts.\n",
        "    ```bash\n",
        "    find . -name '*.sh'\n",
        "    ```\n",
        "\n",
        "Would you like more details or examples on any of these points?"
      ],
      "metadata": {
        "id": "wF9khYBo0ygT"
      }
    },
    {
      "cell_type": "code",
      "source": [],
      "metadata": {
        "id": "emrfPszi0-Lu"
      },
      "execution_count": null,
      "outputs": []
    },
    {
      "cell_type": "markdown",
      "source": [
        "### Arguments"
      ],
      "metadata": {
        "id": "9WF-X9tv1ZPr"
      }
    },
    {
      "cell_type": "markdown",
      "source": [
        "**Arguments**\n",
        "\n",
        "You can always handle arguments very easily, with a piece of code like this:\n",
        "```bash\n",
        "#!/usr/bin/env sh\n",
        "\n",
        "SOME_PARAM=\"$1\"\n",
        "OTHER_PARAM=\"$2\"\n",
        "```"
      ],
      "metadata": {
        "id": "Wn_a3zDX1a72"
      }
    },
    {
      "cell_type": "markdown",
      "source": [
        "### Functions\n"
      ],
      "metadata": {
        "id": "pmC82uez1n5y"
      }
    },
    {
      "cell_type": "markdown",
      "source": [
        "**Use functions!**\n",
        "\n",
        "\n",
        "- Apply the Single Responsibility Principle: a function does one thing.\n",
        "- Don’t mix levels of abstraction\n",
        "- Create functions with a meaningful name for complex tests\n",
        "- Describe the usage of each function: number of arguments, return value, output\n",
        "- Declare variables with a meaningful name for positional parameters of functions\n",
        "\n",
        "```bash\n",
        "    foo() {\n",
        "        local first_arg=\"${1}\"\n",
        "        local second_arg=\"${2}\"\n",
        "        [...]\n",
        "    }\n",
        "```\n",
        "- Cleanup code:  An idiom for tasks that need to be done before the script ends (e.g. removing temporary files, etc.). The exit status of the script is the status of the last statement before the finish function.\n",
        "\n",
        "```bash\n",
        "inish() {\n",
        "    result=$?\n",
        "    # Your cleanup code here\n",
        "    exit ${result}\n",
        "}\n",
        "trap finish EXIT ERR\n",
        "```"
      ],
      "metadata": {
        "id": "8GPOIo9t1pze"
      }
    },
    {
      "cell_type": "code",
      "source": [],
      "metadata": {
        "id": "EO5nIZdq1nuo"
      },
      "execution_count": null,
      "outputs": []
    },
    {
      "cell_type": "markdown",
      "source": [
        "### Variables and subshells\n",
        "\n",
        "1. **Variable Naming Convention**\n",
        "   - Use capital letters, underscores, and digits for variable names to avoid confusion with functions and commands.\n",
        "   ```bash\n",
        "   MY_VARIABLE=10\n",
        "   ```\n",
        "\n",
        "2. **Common Practice for Variable Names**\n",
        "   - Good practice suggests using lowercase for variable names to prevent collisions with environment variables.\n",
        "   ```bash\n",
        "   my_variable=10\n",
        "   ```\n",
        "\n",
        "3. **Declaring Variables Early**\n",
        "   - Declare variables at the beginning of the script or function for clarity, except for loop variables.\n",
        "   ```bash\n",
        "   MY_VAR=10\n",
        "   for i in {1..5}; do\n",
        "       echo \"Loop variable $i\"\n",
        "   done\n",
        "   ```\n",
        "\n",
        "4. **Minimize Temporary Variables**\n",
        "   - Avoid using too many temporary variables; instead, use subshells and pipes.\n",
        "   ```bash\n",
        "   result=$(command | grep \"pattern\")\n",
        "   ```\n",
        "\n",
        "5. **Subshells Usage**\n",
        "   - Use subshells as much as possible to avoid temporary variables.\n",
        "   ```bash\n",
        "   (cd /tmp && ls)\n",
        "   ```\n",
        "\n",
        "6. **Backticks for Subshells**\n",
        "   - Backticks can be used for subshells but are less readable and harder to nest.\n",
        "   ```bash\n",
        "   result=`command`\n",
        "   ```\n",
        "\n",
        "7. **Preferred Subshell Syntax**\n",
        "   - Use `$(command)` for subshells as it supports nesting and is more readable.\n",
        "   ```bash\n",
        "   result=$(command)\n",
        "   nested_result=$(echo $(command))\n",
        "   ```\n",
        "\n",
        "8. **Avoid Subshells in `sh`**\n",
        "   - Avoid using `$(command)` syntax with `sh` as it was not initially supported by the traditional Bourne shell.\n",
        "   ```sh\n",
        "   result=`command`  # Use backticks in sh\n",
        "   ```\n",
        "\n",
        "9. **Combining Subshells with Pipes**\n",
        "   - Combine subshells with pipes to streamline commands and reduce temporary variables.\n",
        "   ```bash\n",
        "   result=$(command | grep \"pattern\")\n",
        "   ```\n",
        "\n",
        "10. **Temporary Variables in Subshells**\n",
        "    - Use subshells to set temporary variables without affecting the parent shell.\n",
        "    ```bash\n",
        "    MY_VAR=10\n",
        "    (MY_VAR=20; echo $MY_VAR)  # Outputs 20\n",
        "    echo $MY_VAR  # Outputs 10\n",
        "    ```\n",
        "\n",
        "**Example**\n",
        "\n",
        "```bash\n",
        "#!/usr/bin/env bash\n",
        "\n",
        "# Code showing two methods for calculating the total size of all GIF\n",
        "# files found recursively from the current directory.\n",
        "\n",
        "# Method 1: Without intelligent use of subshells or piping\n",
        "TMP_FILE=gifs.tmp\n",
        "find . -name '*.gif' > $TMP_FILE\n",
        "\n",
        "GIFS_TOTAL_1=0\n",
        "while read l; do\n",
        "    SIZE=`stat -c%s $l`\n",
        "    GIFS_TOTAL_1=$(($GIFS_TOTAL_1 + $SIZE))\n",
        "done <$TMP_FILE\n",
        "\n",
        "rm $TMP_FILE\n",
        "\n",
        "# Method 2: One liner using subshells and piping\n",
        "GIFS_TOTAL_2=$(stat -c%s $(find . -name '*.gif') | paste -s -d+ | bc)\n",
        "```\n",
        "\n",
        "**Source: ***\n",
        "- Linux Subshells for Beginners With Examples. https://linuxconfig.org/linux-subshells-for-beginners-with-examples.\n",
        "- Shell Scripting - Subshell - GeeksforGeeks. https://www.geeksforgeeks.org/shell-scripting-subshell/.\n",
        "- Bash-Best-practices - GitHub. https://github.com/imoisharma/bash_best_practices.\n",
        "- shell - When are bash variables exported to subshells and/or accessible .... https://stackoverflow.com/questions/51903718/when-are-bash-variables-exported-to-subshells-and-or-accessible-by-scripts."
      ],
      "metadata": {
        "id": "pNVHOxvT2ESN"
      }
    },
    {
      "cell_type": "code",
      "source": [],
      "metadata": {
        "id": "8xDcxoWX3HMk"
      },
      "execution_count": null,
      "outputs": []
    },
    {
      "cell_type": "markdown",
      "source": [
        "### The set builtin\n",
        "\n",
        " Using it will allow you to alter the shell’s behavior in order to facilitate debugging or make sure commands are executed the way they are intended to.\n"
      ],
      "metadata": {
        "id": "k0O_lSXO3HhN"
      }
    },
    {
      "cell_type": "code",
      "source": [],
      "metadata": {
        "id": "TTCyv5vI3V_x"
      },
      "execution_count": null,
      "outputs": []
    },
    {
      "cell_type": "markdown",
      "source": [
        "### Unofficial Bash strict mode\n",
        "\n",
        "Ref: [Aron Maxwell Blog](http://redsymbol.net/articles/unofficial-bash-strict-mode/)\n",
        "\n",
        "\n",
        "In order to get a “stricter” bash, you can use a two-line trick that will most likely help the writing of your scripts.\n",
        "\n",
        "```bash\n",
        "#!/usr/bin/env bash\n",
        "\n",
        "set -euo pipefail\n",
        "IFS=$'\\n\\t'\n",
        "```\n",
        "\n",
        "- `set -e` makes the script exit if a command fails (exit code different from 0). It can help find invisible errors before the script is used in a production environment.\n",
        "- `set -u` makes the script exit if a referenced variable is not declared. Pretty useful since an undeclared variable can be mistaken for an empty one.\n",
        "- `set -o` pipefail affects pipes to once again avoid invisible errors. If one command in a pipeline fails, its exit code will be returned as the result of the whole pipeline. As you can imagine, it makes debugging a lot easier when combined with -e. \\\n",
        "- `N.B. This option is not recognized by the Bourne shell.\n",
        "- `IFS` stands for Internal Field Separator. Each character it contains will be used as a delimiter when splitting a string (in a for loop for instance). N.B. Default IFS for zsh is: $' \\n\\t\\0'\n"
      ],
      "metadata": {
        "id": "Uh67U3V23WiV"
      }
    },
    {
      "cell_type": "code",
      "source": [],
      "metadata": {
        "id": "xyZooplO3HJu"
      },
      "execution_count": null,
      "outputs": []
    },
    {
      "cell_type": "code",
      "source": [],
      "metadata": {
        "id": "IPA-rxpt3G7N"
      },
      "execution_count": null,
      "outputs": []
    },
    {
      "cell_type": "code",
      "source": [],
      "metadata": {
        "id": "w6B7dvE93WFF"
      },
      "execution_count": null,
      "outputs": []
    },
    {
      "cell_type": "markdown",
      "source": [
        "**Notes**\n",
        "\n",
        "- Shebang\n",
        "\n",
        "    1. **Purpose of Shebang**\n",
        "    - The shebang (`#!`) at the beginning of a script specifies which program should execute the script. Not having a shebang can cause issues during execution.\n",
        "    ```bash\n",
        "    #!/bin/bash\n",
        "    echo \"Hello, World!\"\n",
        "    ```\n",
        "\n",
        "    2. **Importance of Shebang**\n",
        "    - Without a shebang, you might need to manually specify the shell to execute the script, which can be problematic if the script uses specific syntax from shells like bash or zsh.\n",
        "    ```bash\n",
        "    #!/bin/bash\n",
        "    for i in {1..5}; do\n",
        "        echo \"Number $i\"\n",
        "    done\n",
        "    ```\n",
        "\n",
        "    3. **Using `env` for Portability**\n",
        "    - Instead of hardcoding the absolute path of the shell binary, use `env` to find the shell. This ensures compatibility across different operating systems where the shell might be located in different paths.\n",
        "    ```bash\n",
        "    #!/usr/bin/env bash\n",
        "    echo \"This script is portable!\"\n",
        "    ```\n",
        "\n",
        "    4. **Shell Selection**\n",
        "    - Avoid using the shell with the most features by default. While most systems have `sh` and `bash`, they might not have `zsh` or other shells. Start with `sh` and switch to `bash` if you need more advanced or non-POSIX syntax.\n",
        "    ```sh\n",
        "    #!/bin/sh\n",
        "    echo \"Using sh for compatibility\"\n",
        "    ```\n",
        "\n",
        "    5. **File Extension Irrelevance**\n",
        "    - The file extension does not determine the interpreter; the shebang does. However, the extension can provide a visible clue about the script's purpose.\n",
        "    ```bash\n",
        "    #!/bin/bash\n",
        "    echo \"File extension is just a clue!\"\n",
        "    ```\n",
        "-"
      ],
      "metadata": {
        "id": "ykENRv_SzdXX"
      }
    },
    {
      "cell_type": "code",
      "source": [],
      "metadata": {
        "id": "NyIkUV4Z3Eur"
      },
      "execution_count": null,
      "outputs": []
    },
    {
      "cell_type": "markdown",
      "source": [],
      "metadata": {
        "id": "GCJoQq593FWe"
      }
    },
    {
      "cell_type": "markdown",
      "source": [
        "**Refs:**\n",
        "- [Bash best practices](https://bertvv.github.io/cheat-sheets/Bash.html)\n",
        "- [Good practices for writing shell scripts](https://yoone.eu/article/good-practices-for-writing-shell-scripts/)\n",
        "- [Bash shell-scripting libraries](https://dberkholz.com/2011/04/07/bash-shell-scripting-libraries/)\n",
        "\n",
        "**Notes**\n",
        "\n",
        "- Prefer local variables within functions over global variables\n",
        "- If you need global variables, make them readonly\n",
        "- Variables should always be referred to in the `${var}` form (as opposed to `$var`).\n",
        "- Variables should always be quoted, especially if their value may contain a whitespace or separator character: `\"${var}\"`\n",
        "- Capitalization:\n",
        "    - Environment (exported) variables: `${ALL_CAPS}`\n",
        "    - Local variables: `${lower_case}`\n",
        "- Always use $(cmd) for command substitution (as opposed to backquotes)\n",
        "- Prepend a command with \\ to override alias/builtin lookup. E.g.:\n",
        "```bash\n",
        "$ \\time bash -c \"dnf list installed | wc -l\"\n",
        "```\n",
        "\n",
        "- printf is preferable to echo. printf gives more control over the output, it’s more portable and its behaviour is defined better.\n",
        "Ex: Print error messages on stderr. E.g.\n",
        "```bash\n",
        "error() {\n",
        "    printf \"${red}!!! %s${reset}\\\\n\" \"${*}\" 1>&2\n",
        "  }\n",
        "```\n",
        "- When combining a sudo command with redirection, it’s important to realize that the root permissions only apply to the command, not to the part after the redirection operator.\n",
        "\n",
        "An example where a script needs to write to a file that’s only writeable as root:\n",
        "\n",
        "```bash\n",
        "# this won't work:\n",
        "  sudo printf \"...\" > /root/some_file\n",
        "\n",
        "  # this will:\n",
        "  printf \"...\" | sudo tee /root/some_file > /dev/null\n",
        "```\n",
        "- functions\n",
        "    - Apply the Single Responsibility Principle: a function does one thing.\n",
        "    - Don’t mix levels of abstraction\n",
        "    - Create functions with a meaningful name for complex tests\n",
        "    - Describe the usage of each function: number of arguments, return value, output\n",
        "    - Declare variables with a meaningful name for positional parameters of functions\n",
        "\n",
        "    ```bash\n",
        "     foo() {\n",
        "        local first_arg=\"${1}\"\n",
        "        local second_arg=\"${2}\"\n",
        "        [...]\n",
        "    }\n",
        "    ```\n",
        "    - Cleanup code:  An idiom for tasks that need to be done before the script ends (e.g. removing temporary files, etc.). The exit status of the script is the status of the last statement before the finish function.\n",
        "\n",
        "    ```bash\n",
        "    inish() {\n",
        "        result=$?\n",
        "        # Your cleanup code here\n",
        "        exit ${result}\n",
        "    }\n",
        "    trap finish EXIT ERR\n",
        "    ```\n",
        "- Writing robust scripts and debugging\n",
        "    - Bash is not very easy to debug. There’s no built-in debugger like you have with other programming languages. By default, undefined variables are interpreted as empty strings, which can cause problems further down the line. A few tips that may help:\n",
        "    - Always check for syntax errors by running the script with bash -n myscript.sh\n",
        "    - Use ShellCheck and fix all warnings. This is a static code analyzer that can find a lot of common bugs in shell scripts. Integrate ShellCheck in your text editor (e.g. Syntastic plugin in Vim)\n",
        "    - Abort the script on errors and undbound variables. Put the following code at the beginning of each script.\n",
        "    ```bash\n",
        "        set -o errexit   # abort on nonzero exitstatus\n",
        "        set -o nounset   # abort on unbound variable\n",
        "        set -o pipefail  # don't hide errors within pipes\n",
        "    ```\n",
        "    - A shorter version is shown below, but writing it out makes the script more readable.\n",
        "    ```bash\n",
        "        set -euo pipefail\n",
        "    ```\n",
        "    - Use Bash’s debug output feature. This will print each statement after applying all forms of substitution (parameter/command substitution, brace expansion, globbing, etc.)\n",
        "    - Run the script with `bash -x myscript.sh`\n",
        "    - Put set -x at the top of the script\n",
        "    - If you only want debug output in a specific section of the script, put `set -x` before and `set +x` after the section.\n",
        "    - Write lots of log messages to stdout or stderr so it’s easier to drill down to what part of the script contains problematic code.\n",
        "    - Use [`bashdb`](http://bashdb.sourceforge.net/)\n",
        "-\n"
      ],
      "metadata": {
        "id": "4Nte5-5YuHQS"
      }
    },
    {
      "cell_type": "code",
      "source": [],
      "metadata": {
        "id": "1NZ7u3W8cbDt"
      },
      "execution_count": null,
      "outputs": []
    },
    {
      "cell_type": "markdown",
      "source": [
        "## Miscellinious"
      ],
      "metadata": {
        "id": "kmiB1_wXcbZe"
      }
    },
    {
      "cell_type": "code",
      "source": [],
      "metadata": {
        "id": "m_ID36gfcdrp"
      },
      "execution_count": null,
      "outputs": []
    },
    {
      "cell_type": "markdown",
      "source": [
        "## Applications"
      ],
      "metadata": {
        "id": "opeyFMsrcep6"
      }
    },
    {
      "cell_type": "code",
      "source": [],
      "metadata": {
        "id": "jD-5VUfPcg74"
      },
      "execution_count": null,
      "outputs": []
    },
    {
      "cell_type": "markdown",
      "source": [
        "## Projects"
      ],
      "metadata": {
        "id": "vTdA1s0KbQum"
      }
    },
    {
      "cell_type": "markdown",
      "source": [
        "### 1. project1\n",
        "\n",
        "1. path as argument\n",
        "2. read contents of the path\n",
        "3. count number of letters in the file/folder name\n",
        "4. check if the number is even or odd\n",
        "5. print message\n",
        "    ```\n",
        "    #folder\n",
        "    folder: <name> : EVEN/ODD\n",
        "    #file\n",
        "    file: <name> : EVEN/ODD\n",
        "    ```\n"
      ],
      "metadata": {
        "id": "bh2FYPv1jg0A"
      }
    },
    {
      "cell_type": "code",
      "source": [
        "!mkdir -p path"
      ],
      "metadata": {
        "id": "DJpf2vMaeEhC"
      },
      "execution_count": 15,
      "outputs": []
    },
    {
      "cell_type": "code",
      "source": [
        "!mkdir path/Assignment.txt"
      ],
      "metadata": {
        "id": "0vB4t7VbIH6k"
      },
      "execution_count": null,
      "outputs": []
    },
    {
      "cell_type": "code",
      "source": [
        "!mkdir path/testdir"
      ],
      "metadata": {
        "id": "PAy2jjLqIKMB"
      },
      "execution_count": null,
      "outputs": []
    },
    {
      "cell_type": "code",
      "source": [
        "! mkdir path/Evaluation.txt"
      ],
      "metadata": {
        "id": "jmQkXZtIFA90"
      },
      "execution_count": 19,
      "outputs": []
    },
    {
      "cell_type": "code",
      "source": [
        "%%writefile PROJECT_1.sh\n",
        "#!/usr/bin/env bash\n",
        "\n",
        "set -euo pipefail\n",
        "IFT=$'\\n\\t'\n",
        "\n",
        "length_of_directory() {\n",
        "\n",
        "Argument=\"$1\"\n",
        "\n",
        "if [[ -z $Argument ]]; then\n",
        "   echo \"no directory exists\"\n",
        "else\n",
        "     for content in $Argument/*; do\n",
        "      length=\"${#content}\"\n",
        "        if [[ -d \"$content\" ]]; then\n",
        "           if  (( length%2 == 0 )); then\n",
        "              echo \"Folder: $content : Even\"\n",
        "           else\n",
        "              echo \"Folder: $content : Odd\"\n",
        "           fi\n",
        "\n",
        "\n",
        "       else\n",
        "            if  (( length%2 == 0 )) ; then\n",
        "                echo \"File: $content : Even\"\n",
        "            else\n",
        "                echo \"File: $content : Odd\"\n",
        "            fi\n",
        "\n",
        "        fi\n",
        "\n",
        "      done\n",
        "  fi\n",
        "\n",
        "}\n",
        "length_of_directory \"$1\""
      ],
      "metadata": {
        "colab": {
          "base_uri": "https://localhost:8080/"
        },
        "id": "MTCJPmXAbuBS",
        "outputId": "669341bd-7762-474e-b2a6-218491eac233"
      },
      "execution_count": 20,
      "outputs": [
        {
          "output_type": "stream",
          "name": "stdout",
          "text": [
            "Overwriting PROJECT_1.sh\n"
          ]
        }
      ]
    },
    {
      "cell_type": "code",
      "source": [
        "!chmod u+x PROJECT_1.sh"
      ],
      "metadata": {
        "id": "eNcRz3x3mYXK"
      },
      "execution_count": 12,
      "outputs": []
    },
    {
      "cell_type": "code",
      "source": [
        "!bash ./PROJECT_1.sh path"
      ],
      "metadata": {
        "colab": {
          "base_uri": "https://localhost:8080/"
        },
        "id": "SuRb9Opymbyu",
        "outputId": "65307157-8287-448e-fb83-9217e9eaae7e"
      },
      "execution_count": 21,
      "outputs": [
        {
          "output_type": "stream",
          "name": "stdout",
          "text": [
            "Folder: path/Assignment.txt : Odd\n",
            "Folder: path/Evaluation.txt : Odd\n",
            "Folder: path/sample_data : Even\n",
            "Folder: path/testdir : Even\n"
          ]
        }
      ]
    },
    {
      "cell_type": "markdown",
      "source": [
        "### 2. Django project wrapper"
      ],
      "metadata": {
        "id": "K50ijsR0j9Hv"
      }
    },
    {
      "cell_type": "markdown",
      "source": [
        "Create project structure similar to django [python framework] project\n",
        "\n",
        "#### Guidelines\n",
        "\n",
        "1. Read arguments\n",
        "    - First argument: project name\n",
        "    - all other arguments: apps\n",
        "2. All files in the folders are empty.\n",
        "3. Ignore files and folders (do not create)\n",
        "    - `__pycache__`\n",
        "    - `*.pyc`\n",
        "3. Following command should create the project structure as shown in the image.\n",
        "\n",
        "```bash\n",
        "$ ./create_django_project.sh projectName appOne appTwo appThree\n",
        "```\n",
        "4. Project structure\n",
        "\n",
        "<!-- ![Django Project Strue](https://drive.google.com/uc?id=1e2RFmRR8Rg1iNfOkTEfjT4UIEFgQ65kf) -->\n",
        "\n",
        "<p align=center>\n",
        "<img src=\"https://drive.google.com/uc?id=1e2RFmRR8Rg1iNfOkTEfjT4UIEFgQ65kf\" alt=\"django project structure\">\n",
        "</p>"
      ],
      "metadata": {
        "id": "V31fvLEwp1U3"
      }
    },
    {
      "cell_type": "code",
      "source": [
        "%%writefile create_django_project.sh\n",
        "\n",
        "#!/usr/bin/env bash\n",
        "set -euo pipefail\n",
        "IFS=$'\\n\\t'\n",
        "\n",
        "\n",
        "Project_Structure() {\n",
        "\n",
        "\n",
        " #for project directory\n",
        "  Argument_1=\"$1\"\n",
        "\n",
        "  if [[ -z $Argument_1 ]]; then\n",
        "    echo \"Error\"\n",
        "  else\n",
        "      mkdir $Argument_1\n",
        "  fi\n",
        "\n",
        "\n",
        "  if [[ -d $Argument_1 ]]; then\n",
        "     cd \"$Argument_1\"\n",
        "     touch manage.py  __init__.py  asgi.py  settings.py  urls.py  wsgi.py\n",
        "     mkdir -p appOne appTwo appThree\n",
        "  else\n",
        "     echo \"Error: Failed to create the directory\"\n",
        "     exit 1\n",
        "  fi\n",
        "\n",
        " #for app one\n",
        "  Argument_2=\"$2\"\n",
        "\n",
        "   if [[ -d $Argument_2 ]]; then\n",
        "      cd \"$Argument_2\"\n",
        "      touch __init__.py  admin.py  apps.py models.py tests.py  views.py\n",
        "      mkdir migrations\n",
        "      touch migrations/__init__.py\n",
        "      cd ..\n",
        "    else\n",
        "       echo \"Error\"\n",
        "       exit 1\n",
        "    fi\n",
        "\n",
        "# for app two\n",
        "    Argument_3=\"$3\"\n",
        "    if [[ -d $Argument_3 ]]; then\n",
        "      cd \"$Argument_3\"\n",
        "      touch __init__.py  admin.py  apps.py models.py tests.py  views.py\n",
        "      mkdir migrations\n",
        "      touch migrations/__init__.py\n",
        "      cd ..\n",
        "    else\n",
        "       echo \"Error: Failed to create the directory\"\n",
        "       exit 1\n",
        "    fi\n",
        "\n",
        "# for app three\n",
        "    Argument_4=\"$4\"\n",
        "    if [[ -d $Argument_4 ]]; then\n",
        "      cd \"$Argument_4\"\n",
        "      touch __init__.py  admin.py  apps.py  models.py tests.py  views.py\n",
        "      mkdir migrations\n",
        "      touch migrations/__init__.py\n",
        "      cd ..\n",
        "    else\n",
        "      echo \"Error: Failed to create the directory\"\n",
        "      exit 1\n",
        "    fi\n",
        "}\n",
        "\n",
        "Project_Structure \"$1\" \"$2\" \"$3\" \"$4\""
      ],
      "metadata": {
        "id": "xPYo5qzGcuiC",
        "colab": {
          "base_uri": "https://localhost:8080/"
        },
        "outputId": "94b76aad-6318-4290-be66-a1ebd9f46841"
      },
      "execution_count": 21,
      "outputs": [
        {
          "output_type": "stream",
          "name": "stdout",
          "text": [
            "Overwriting create_django_project.sh\n"
          ]
        }
      ]
    },
    {
      "cell_type": "code",
      "source": [
        "!chmod u+x create_django_project.sh"
      ],
      "metadata": {
        "id": "v9tfXRdfLLcb"
      },
      "execution_count": 2,
      "outputs": []
    },
    {
      "cell_type": "code",
      "source": [
        "!bash ./create_django_project.sh django_project appOne appTwo appThree"
      ],
      "metadata": {
        "id": "6BYd58QTLRde"
      },
      "execution_count": 22,
      "outputs": []
    },
    {
      "cell_type": "code",
      "source": [
        "!rm -rf django_project"
      ],
      "metadata": {
        "id": "r3u8PMWxNTt6"
      },
      "execution_count": 20,
      "outputs": []
    },
    {
      "cell_type": "markdown",
      "source": [
        "### 3. Express Project Structure"
      ],
      "metadata": {
        "id": "tRG2BxXxssZ7"
      }
    },
    {
      "cell_type": "code",
      "source": [],
      "metadata": {
        "id": "uKWwSiomsvuI"
      },
      "execution_count": null,
      "outputs": []
    },
    {
      "cell_type": "markdown",
      "source": [
        "Project Guidelines\n",
        "\n",
        "\n",
        "\n",
        "\n",
        "Create project structure similar to express [nodels framework] project\n",
        "\n",
        "#### Guidelines\n",
        "\n",
        "1. Read arguments\n",
        "    - First argument: project name\n",
        "2. All files in the folders are empty.\n",
        "3. Following command should create the project structure as shown in the image\n",
        "\n",
        "```bash\n",
        "$ ./create_express_project.sh ExpProjectName\n",
        "```\n",
        "4. Project structure\n",
        "\n",
        "<!--\n",
        "https://drive.google.com/file/d/16HzF3QfSsyyrd4VG4OXwEdOFqP-xuhjg/view?usp=drive_link\n",
        " -->\n",
        "<!-- ![Django Project Strue](https://drive.google.com/uc?id=16HzF3QfSsyyrd4VG4OXwEdOFqP-xuhjg) -->\n",
        "\n",
        "<p align=center>\n",
        "<img src=\"https://drive.google.com/uc?id=16HzF3QfSsyyrd4VG4OXwEdOFqP-xuhjg\" alt=\"django project structure\">\n",
        "</p>"
      ],
      "metadata": {
        "id": "V-kYMoLHswWS"
      }
    },
    {
      "cell_type": "code",
      "source": [],
      "metadata": {
        "id": "yPwWEN7_swEn"
      },
      "execution_count": null,
      "outputs": []
    },
    {
      "cell_type": "markdown",
      "source": [
        "### Project4: File Size Summary\n",
        "\n",
        "Guidelines\n",
        "\n",
        "- Pass an argument to the script - path\n",
        "- read the path into a variable\n",
        "- reaad the contents of the path\n",
        "- use loops to check whether each content is a file or a directory\n",
        "- print the message-\n",
        "    - if file-\n",
        "        \"File: [filename]: [size of filename]\"\n",
        "    - if directory:\n",
        "        \"Directory: [dirname] : [sum of all size of files in the directory]\"\n"
      ],
      "metadata": {
        "id": "TC74jZ99bXRj"
      }
    },
    {
      "cell_type": "code",
      "source": [
        "%%writefile PROJECT_4.sh\n",
        "#!/usr/bin/env bash\n",
        "\n",
        "set -euo pipefail\n",
        "IFT=$'\\n\\t'\n",
        "\n",
        "#function for finding the path and reading its content\n",
        "path_to_directory(){\n",
        "\n",
        "Argument=\"$1\"\n",
        "\n",
        "#checks whether argument is empty\n",
        "if [[ -z $Argument ]]; then\n",
        "    echo \"No Directory Exists\"\n",
        "\n",
        "else\n",
        "\n",
        "  #uses for loop to acces the contents of the directory\n",
        "    for content in $Argument/*; do\n",
        "\n",
        "      size=$(du -h $content | awk '{print $1}')\n",
        "\n",
        "        if [[ -d $content ]]; then\n",
        "            echo \"Directory: [$content]  Size = $size\"\n",
        "\n",
        "        else\n",
        "            echo \"File: [$content]  Size = $size\"\n",
        "\n",
        "        fi\n",
        "\n",
        "    done\n",
        "\n",
        "fi\n",
        "\n",
        "}\n",
        "\n",
        "#calling function\n",
        "path_to_directory \"$1\""
      ],
      "metadata": {
        "colab": {
          "base_uri": "https://localhost:8080/"
        },
        "id": "RDOrvDarol-f",
        "outputId": "b4eacbd8-b3df-4c93-cb21-b2fcb1eb5b40"
      },
      "execution_count": 33,
      "outputs": [
        {
          "output_type": "stream",
          "name": "stdout",
          "text": [
            "Overwriting PROJECT_4.sh\n"
          ]
        }
      ]
    },
    {
      "cell_type": "code",
      "source": [
        "!chmod u+x PROJECT_4.sh"
      ],
      "metadata": {
        "id": "e9nJhdISeGtX"
      },
      "execution_count": 26,
      "outputs": []
    },
    {
      "cell_type": "code",
      "source": [
        "!bash ./PROJECT_4.sh path"
      ],
      "metadata": {
        "colab": {
          "base_uri": "https://localhost:8080/"
        },
        "id": "skfIU1NGeSDa",
        "outputId": "200594f5-a56a-4a5a-faf7-70f597ce3df5"
      },
      "execution_count": 32,
      "outputs": [
        {
          "output_type": "stream",
          "name": "stdout",
          "text": [
            "File: [path/file1.txt] , Size = 0\n",
            "File: [path/file2.txt] , Size = 0\n",
            "File: [path/file3.txt] , Size = 0\n",
            "Directory: [path/project] , Size = 4.0K\n",
            "Directory: [path/sample_data] , Size = 55M\n",
            "File: [path/size.txt] , Size = 4.0K\n",
            "Directory: [path/src] , Size = 4.0K\n",
            "Directory: [path/test] , Size = 4.0K\n",
            "Directory: [path/testdir] , Size = 4.0K\n",
            "Directory: [path/vb] , Size = 4.0K\n"
          ]
        }
      ]
    },
    {
      "cell_type": "markdown",
      "source": [
        "## Appendix"
      ],
      "metadata": {
        "id": "Bv0sBQiHbVoW"
      }
    },
    {
      "cell_type": "code",
      "source": [
        "!pwd\n"
      ],
      "metadata": {
        "id": "EMP_p7c0u695",
        "colab": {
          "base_uri": "https://localhost:8080/"
        },
        "outputId": "71eea95d-de49-4f4c-9058-eafcc85f8051"
      },
      "execution_count": 30,
      "outputs": [
        {
          "output_type": "stream",
          "name": "stdout",
          "text": [
            "/content\n"
          ]
        }
      ]
    },
    {
      "cell_type": "code",
      "source": [
        "! awk '{print $1,$2}' size.txt"
      ],
      "metadata": {
        "colab": {
          "base_uri": "https://localhost:8080/"
        },
        "id": "4lFH0H9Gu9ZJ",
        "outputId": "04bf8633-356e-4082-d2b8-eeac1b10cee2"
      },
      "execution_count": null,
      "outputs": [
        {
          "output_type": "stream",
          "name": "stdout",
          "text": [
            "80K ./.config/logs/2024.08.09\n",
            "84K ./.config/logs\n",
            "8.0K ./.config/configurations\n",
            "140K ./.config\n",
            "4.0K ./sample_data/path/testdir/a/b\n",
            "8.0K ./sample_data/path/testdir/a\n",
            "12K ./sample_data/path/testdir\n",
            "16K ./sample_data/path\n",
            "55M ./sample_data\n",
            "55M .\n"
          ]
        }
      ]
    },
    {
      "cell_type": "code",
      "source": [
        "!ls -alh"
      ],
      "metadata": {
        "colab": {
          "base_uri": "https://localhost:8080/"
        },
        "id": "dg6BzhErx9vY",
        "outputId": "4ef26d1c-ef26-49f9-bd9c-73e64b775540"
      },
      "execution_count": null,
      "outputs": [
        {
          "output_type": "stream",
          "name": "stdout",
          "text": [
            "total 32K\n",
            "drwxr-xr-x 1 root root 4.0K Aug 13 12:45 .\n",
            "drwxr-xr-x 1 root root 4.0K Aug 13 12:14 ..\n",
            "drwxr-xr-x 4 root root 4.0K Aug  9 13:22 .config\n",
            "-rw-r--r-- 1 root root   69 Aug 13 12:16 file.sh\n",
            "-rwxr-xr-x 1 root root  456 Aug 13 12:31 project4.sh\n",
            "drwxr-xr-x 1 root root 4.0K Aug 13 12:30 sample_data\n",
            "-rw-r--r-- 1 root root  242 Aug 13 12:45 size.txt\n"
          ]
        }
      ]
    },
    {
      "cell_type": "code",
      "source": [
        "# ! ls -alh | awk '{print $3 ,$5, $9}'\n",
        "! ls -alh | awk '$5~/K/{print $1, $3 ,$5, $9}'\n"
      ],
      "metadata": {
        "colab": {
          "base_uri": "https://localhost:8080/"
        },
        "id": "L7hJqqbsyGUL",
        "outputId": "6725da9f-9267-4416-f9d7-a55f954a5924"
      },
      "execution_count": null,
      "outputs": [
        {
          "output_type": "stream",
          "name": "stdout",
          "text": [
            "drwxr-xr-x root 4.0K .\n",
            "drwxr-xr-x root 4.0K ..\n",
            "drwxr-xr-x root 4.0K .config\n",
            "drwxr-xr-x root 4.0K sample_data\n"
          ]
        }
      ]
    },
    {
      "cell_type": "code",
      "source": [],
      "metadata": {
        "id": "Ks5swXiey15X"
      },
      "execution_count": null,
      "outputs": []
    }
  ]
}